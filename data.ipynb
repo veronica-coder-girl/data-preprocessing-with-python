{
 "cells": [
  {
   "cell_type": "code",
   "execution_count": 1,
   "metadata": {},
   "outputs": [],
   "source": [
    "import pandas as pd\n",
    "import numpy as np"
   ]
  },
  {
   "cell_type": "code",
   "execution_count": 2,
   "metadata": {},
   "outputs": [],
   "source": [
    "path = \"raw/student_scores.txt\""
   ]
  },
  {
   "cell_type": "code",
   "execution_count": 7,
   "metadata": {},
   "outputs": [],
   "source": [
    "cols = ['Student_Name', 'Mathematics_Score', 'Python_Score', 'Machine_Learning_Score']"
   ]
  },
  {
   "cell_type": "code",
   "execution_count": 9,
   "metadata": {},
   "outputs": [],
   "source": [
    "df = pd.read_csv(path,names=cols)"
   ]
  },
  {
   "cell_type": "code",
   "execution_count": 10,
   "metadata": {},
   "outputs": [
    {
     "data": {
      "text/html": [
       "<div>\n",
       "<style scoped>\n",
       "    .dataframe tbody tr th:only-of-type {\n",
       "        vertical-align: middle;\n",
       "    }\n",
       "\n",
       "    .dataframe tbody tr th {\n",
       "        vertical-align: top;\n",
       "    }\n",
       "\n",
       "    .dataframe thead th {\n",
       "        text-align: right;\n",
       "    }\n",
       "</style>\n",
       "<table border=\"1\" class=\"dataframe\">\n",
       "  <thead>\n",
       "    <tr style=\"text-align: right;\">\n",
       "      <th></th>\n",
       "      <th>Student_Name</th>\n",
       "      <th>Mathematics_Score</th>\n",
       "      <th>Python_Score</th>\n",
       "      <th>Machine_Learning_Score</th>\n",
       "    </tr>\n",
       "  </thead>\n",
       "  <tbody>\n",
       "    <tr>\n",
       "      <th>0</th>\n",
       "      <td>Rose Banda</td>\n",
       "      <td>15</td>\n",
       "      <td>18</td>\n",
       "      <td>12</td>\n",
       "    </tr>\n",
       "    <tr>\n",
       "      <th>1</th>\n",
       "      <td>Lindiwe Mwale</td>\n",
       "      <td>90</td>\n",
       "      <td>88</td>\n",
       "      <td>94</td>\n",
       "    </tr>\n",
       "    <tr>\n",
       "      <th>2</th>\n",
       "      <td>Thoko Nkhoma</td>\n",
       "      <td>75</td>\n",
       "      <td>85</td>\n",
       "      <td>80</td>\n",
       "    </tr>\n",
       "    <tr>\n",
       "      <th>3</th>\n",
       "      <td>Tadala Phiri</td>\n",
       "      <td>88</td>\n",
       "      <td>92</td>\n",
       "      <td>87</td>\n",
       "    </tr>\n",
       "    <tr>\n",
       "      <th>4</th>\n",
       "      <td>Chikondi Nyirenda</td>\n",
       "      <td>70</td>\n",
       "      <td></td>\n",
       "      <td>82</td>\n",
       "    </tr>\n",
       "  </tbody>\n",
       "</table>\n",
       "</div>"
      ],
      "text/plain": [
       "        Student_Name Mathematics_Score Python_Score  Machine_Learning_Score\n",
       "0         Rose Banda                15           18                      12\n",
       "1      Lindiwe Mwale                90           88                      94\n",
       "2       Thoko Nkhoma                75           85                      80\n",
       "3       Tadala Phiri                88           92                      87\n",
       "4  Chikondi Nyirenda                70                                   82"
      ]
     },
     "execution_count": 10,
     "metadata": {},
     "output_type": "execute_result"
    }
   ],
   "source": [
    "df.head()"
   ]
  },
  {
   "cell_type": "code",
   "execution_count": 13,
   "metadata": {},
   "outputs": [
    {
     "name": "stdout",
     "output_type": "stream",
     "text": [
      "<class 'pandas.core.frame.DataFrame'>\n",
      "RangeIndex: 97 entries, 0 to 96\n",
      "Data columns (total 4 columns):\n",
      " #   Column                  Non-Null Count  Dtype \n",
      "---  ------                  --------------  ----- \n",
      " 0   Student_Name            97 non-null     object\n",
      " 1   Mathematics_Score       97 non-null     object\n",
      " 2   Python_Score            97 non-null     object\n",
      " 3   Machine_Learning_Score  97 non-null     int64 \n",
      "dtypes: int64(1), object(3)\n",
      "memory usage: 3.2+ KB\n"
     ]
    }
   ],
   "source": [
    "df.info()"
   ]
  },
  {
   "cell_type": "code",
   "execution_count": 14,
   "metadata": {},
   "outputs": [
    {
     "data": {
      "text/plain": [
       "array([' 15', ' 90', ' 75', ' 88', ' 70', ' 82', ' ninety', ' 92', ' 67',\n",
       "       ' 85', ' 94', ' 60', ' 80', ' 78', ' 95', ' 25', ' 91', ' 45',\n",
       "       ' 93', ' 68', ' 76', ' 87', ' 79', ' 89', ' 20', ' 7', ' 55',\n",
       "       ' eighty', ' 11', ' ', ' 65', ' 77', ' 72', ' 0', ' 54', ' 86',\n",
       "       ' 19', ' 83'], dtype=object)"
      ]
     },
     "execution_count": 14,
     "metadata": {},
     "output_type": "execute_result"
    }
   ],
   "source": [
    "\n",
    "df['Mathematics_Score'].unique()"
   ]
  },
  {
   "cell_type": "code",
   "execution_count": 22,
   "metadata": {},
   "outputs": [],
   "source": [
    "for col in df.columns:\n",
    "    try:\n",
    "        df[col] = df[col].str.strip()\n",
    "    except:\n",
    "        continue"
   ]
  },
  {
   "cell_type": "code",
   "execution_count": 23,
   "metadata": {},
   "outputs": [
    {
     "data": {
      "text/html": [
       "<div>\n",
       "<style scoped>\n",
       "    .dataframe tbody tr th:only-of-type {\n",
       "        vertical-align: middle;\n",
       "    }\n",
       "\n",
       "    .dataframe tbody tr th {\n",
       "        vertical-align: top;\n",
       "    }\n",
       "\n",
       "    .dataframe thead th {\n",
       "        text-align: right;\n",
       "    }\n",
       "</style>\n",
       "<table border=\"1\" class=\"dataframe\">\n",
       "  <thead>\n",
       "    <tr style=\"text-align: right;\">\n",
       "      <th></th>\n",
       "      <th>Student_Name</th>\n",
       "      <th>Mathematics_Score</th>\n",
       "      <th>Python_Score</th>\n",
       "      <th>Machine_Learning_Score</th>\n",
       "    </tr>\n",
       "  </thead>\n",
       "  <tbody>\n",
       "    <tr>\n",
       "      <th>0</th>\n",
       "      <td>Rose Banda</td>\n",
       "      <td>15</td>\n",
       "      <td>18</td>\n",
       "      <td>12</td>\n",
       "    </tr>\n",
       "    <tr>\n",
       "      <th>1</th>\n",
       "      <td>Lindiwe Mwale</td>\n",
       "      <td>90</td>\n",
       "      <td>88</td>\n",
       "      <td>94</td>\n",
       "    </tr>\n",
       "    <tr>\n",
       "      <th>2</th>\n",
       "      <td>Thoko Nkhoma</td>\n",
       "      <td>75</td>\n",
       "      <td>85</td>\n",
       "      <td>80</td>\n",
       "    </tr>\n",
       "    <tr>\n",
       "      <th>3</th>\n",
       "      <td>Tadala Phiri</td>\n",
       "      <td>88</td>\n",
       "      <td>92</td>\n",
       "      <td>87</td>\n",
       "    </tr>\n",
       "    <tr>\n",
       "      <th>4</th>\n",
       "      <td>Chikondi Nyirenda</td>\n",
       "      <td>70</td>\n",
       "      <td></td>\n",
       "      <td>82</td>\n",
       "    </tr>\n",
       "  </tbody>\n",
       "</table>\n",
       "</div>"
      ],
      "text/plain": [
       "        Student_Name Mathematics_Score Python_Score  Machine_Learning_Score\n",
       "0         Rose Banda                15           18                      12\n",
       "1      Lindiwe Mwale                90           88                      94\n",
       "2       Thoko Nkhoma                75           85                      80\n",
       "3       Tadala Phiri                88           92                      87\n",
       "4  Chikondi Nyirenda                70                                   82"
      ]
     },
     "execution_count": 23,
     "metadata": {},
     "output_type": "execute_result"
    }
   ],
   "source": [
    "df.head()"
   ]
  },
  {
   "cell_type": "code",
   "execution_count": 26,
   "metadata": {},
   "outputs": [
    {
     "name": "stderr",
     "output_type": "stream",
     "text": [
      "C:\\Users\\dell\\AppData\\Local\\Temp\\ipykernel_10504\\1007712034.py:1: SettingWithCopyWarning: \n",
      "A value is trying to be set on a copy of a slice from a DataFrame.\n",
      "Try using .loc[row_indexer,col_indexer] = value instead\n",
      "\n",
      "See the caveats in the documentation: https://pandas.pydata.org/pandas-docs/stable/user_guide/indexing.html#returning-a-view-versus-a-copy\n",
      "  df[df['Mathematics_Score']=='ninety']['Mathematics_Score'] = 90\n"
     ]
    }
   ],
   "source": [
    "df[df['Mathematics_Score']=='ninety']['Mathematics_Score'] = 90"
   ]
  },
  {
   "cell_type": "code",
   "execution_count": 30,
   "metadata": {},
   "outputs": [
    {
     "data": {
      "text/plain": [
       "6    ninety\n",
       "Name: Mathematics_Score, dtype: object"
      ]
     },
     "execution_count": 30,
     "metadata": {},
     "output_type": "execute_result"
    }
   ],
   "source": [
    "df[df['Mathematics_Score']=='ninety']['Mathematics_Score']"
   ]
  },
  {
   "cell_type": "code",
   "execution_count": 34,
   "metadata": {},
   "outputs": [
    {
     "data": {
      "text/plain": [
       "46    eighty\n",
       "Name: Mathematics_Score, dtype: object"
      ]
     },
     "execution_count": 34,
     "metadata": {},
     "output_type": "execute_result"
    }
   ],
   "source": [
    "df[df['Mathematics_Score']=='eighty']['Mathematics_Score']"
   ]
  },
  {
   "cell_type": "code",
   "execution_count": 29,
   "metadata": {},
   "outputs": [],
   "source": [
    "df.loc[6,1]=90"
   ]
  },
  {
   "cell_type": "code",
   "execution_count": 43,
   "metadata": {},
   "outputs": [],
   "source": [
    "df.loc[46,1].replace()"
   ]
  },
  {
   "cell_type": "code",
   "execution_count": 46,
   "metadata": {},
   "outputs": [],
   "source": [
    "df['Mathematics_Score'].replace(\"eighty\", 80, inplace=True)"
   ]
  },
  {
   "cell_type": "code",
   "execution_count": 48,
   "metadata": {},
   "outputs": [],
   "source": [
    "df['Mathematics_Score'].replace(\"ninety\", 90, inplace=True)"
   ]
  },
  {
   "cell_type": "code",
   "execution_count": 49,
   "metadata": {},
   "outputs": [
    {
     "data": {
      "text/plain": [
       "array(['15', '90', '75', '88', '70', '82', 90, '92', '67', '85', '94',\n",
       "       '60', '80', '78', '95', '25', '91', '45', '93', '68', '76', '87',\n",
       "       '79', '89', '20', '7', '55', 80, '11', '', '65', '77', '72', '0',\n",
       "       '54', '86', '19', '83'], dtype=object)"
      ]
     },
     "execution_count": 49,
     "metadata": {},
     "output_type": "execute_result"
    }
   ],
   "source": [
    "df['Mathematics_Score'].unique()"
   ]
  },
  {
   "cell_type": "code",
   "execution_count": 52,
   "metadata": {},
   "outputs": [
    {
     "name": "stdout",
     "output_type": "stream",
     "text": [
      "Unique Values for Student_Name\n",
      "['Rose Banda' 'Lindiwe Mwale' 'Thoko Nkhoma' 'Tadala Phiri'\n",
      " 'Chikondi Nyirenda' 'Loyce Kamanga' 'Blessings Mvula' 'Gift Zimba'\n",
      " 'Patrick Chirwa' 'Mercy Chisale' 'Precious Kunda' 'Catherine Gondwe'\n",
      " 'Felix Moyo' 'Linda Mhone' 'David Phiri' 'Lucy Chipeta' 'Vincent Nkhata'\n",
      " 'Tamara Mtonga' 'Frankie Mbewe' 'Mphatso Mpinganjira' 'Fannie Moyo'\n",
      " 'Joseph Kalua' 'Brenda Msowoya' 'Aubrey Jere' 'Fatima Chibwana'\n",
      " 'Victor Nkhoma' 'Wendy Tembo' 'Ben Chitumba' 'Andrew Chigumula'\n",
      " 'Sophia Mulenga' 'Elijah Kambale' 'Ivy Nyoni' 'Grace Kumwenda'\n",
      " 'Christopher Nyirenda' 'Chisomo Kachale' 'Miriam Chirwa' 'Emmanuel Soko'\n",
      " 'Flora Mwale' \"Alex Ching'oma\" 'Martha Kanjala' 'Brighton Mvula'\n",
      " 'Joyce Nankhuni' 'Brian Mwafulirwa' 'Patience Chirwa' 'Annie Mulenga'\n",
      " 'Brighton Banda' 'Cynthia Moyo' 'Stephen Kaunda' 'Nelson Mwale'\n",
      " 'Maria Chitsulo' 'Wilson Mphepo' 'Grace Lungu' 'Melvin Phiri'\n",
      " 'Levison Manda' 'Idah Gondwe' 'Kelvin Chilimba' 'Chikondi Nyoni'\n",
      " 'Felista Kambalame' 'Robert Chidongo' 'Belinda Kamwendo' 'Peter Malunga'\n",
      " 'Mirriam Namagonya' 'Geoffrey Kasiya' 'Esnart Mhone' 'Frank Banda'\n",
      " 'Abigail Chavula' 'Howard Gondwe' 'Diana Maseko' 'Hilda Kadzamira'\n",
      " 'Richard Kafuwa' 'Esther Chizuma' 'Wellington Chimaliro' 'Patricia Manda'\n",
      " 'Brian Kanyenda' 'Gladys Kumwenda' 'Sydney Tembo' 'Mercy Chawinga'\n",
      " 'David Nkhoma' 'Lillian Mulenga' 'James Chiunda' 'Rhoda Chitowe'\n",
      " 'Simon Chigona' 'Frances Kachali' 'Ishmael Nankhuni' 'Clara Mutharika'\n",
      " 'Rachel Mvula' 'Henry Kalonga' 'Florence Zgambo' 'Mary Nyasulu'\n",
      " 'Lazarus Mwale' 'Peter Phiri' 'Moses Chimaliro' 'Bertha Nyirenda'\n",
      " 'John Zimba']\n",
      "\n",
      "\n",
      "Unique Values for Mathematics_Score\n",
      "['15' '90' '75' '88' '70' '82' 90 '92' '67' '85' '94' '60' '80' '78' '95'\n",
      " '25' '91' '45' '93' '68' '76' '87' '79' '89' '20' '7' '55' 80 '11' ''\n",
      " '65' '77' '72' '0' '54' '86' '19' '83']\n",
      "\n",
      "\n",
      "Unique Values for Python_Score\n",
      "['18' '88' '85' '92' '' '50' '95' '72' '90' '84' '89' '75' '76' '80' '70'\n",
      " '96' '10' '86' '82' '32' '97' '81' '94' '77' '58' '98' '27' '60' '0' '3'\n",
      " '79' '87' '74' '68' '83' '78' '93' '52' '91' '67']\n",
      "\n",
      "\n",
      "Unique Values for Machine_Learning_Score\n",
      "[12 94 80 87 82 84 78 99 55 88 91 70 59 76 33 69 64 45 57 30 53 27 92 25\n",
      " 90 89 41 77 62 66 96 63 38 73 58 83 10 97  2 93 67 86 95 68  0 81 65 31\n",
      " 79 17]\n",
      "\n",
      "\n",
      "Unique Values for 1\n",
      "[nan 90. 80.]\n",
      "\n",
      "\n",
      "Unique Values for 2\n",
      "[nan 80.]\n",
      "\n",
      "\n"
     ]
    }
   ],
   "source": [
    "for cols in df.columns:\n",
    "    print(f\"Unique Values for {cols}\")\n",
    "    print(df[cols].unique())\n",
    "    print()\n",
    "    print()"
   ]
  },
  {
   "cell_type": "code",
   "execution_count": 53,
   "metadata": {},
   "outputs": [
    {
     "data": {
      "text/html": [
       "<div>\n",
       "<style scoped>\n",
       "    .dataframe tbody tr th:only-of-type {\n",
       "        vertical-align: middle;\n",
       "    }\n",
       "\n",
       "    .dataframe tbody tr th {\n",
       "        vertical-align: top;\n",
       "    }\n",
       "\n",
       "    .dataframe thead th {\n",
       "        text-align: right;\n",
       "    }\n",
       "</style>\n",
       "<table border=\"1\" class=\"dataframe\">\n",
       "  <thead>\n",
       "    <tr style=\"text-align: right;\">\n",
       "      <th></th>\n",
       "      <th>Student_Name</th>\n",
       "      <th>Mathematics_Score</th>\n",
       "      <th>Python_Score</th>\n",
       "      <th>Machine_Learning_Score</th>\n",
       "      <th>1</th>\n",
       "      <th>2</th>\n",
       "    </tr>\n",
       "  </thead>\n",
       "  <tbody>\n",
       "    <tr>\n",
       "      <th>0</th>\n",
       "      <td>Rose Banda</td>\n",
       "      <td>15</td>\n",
       "      <td>18</td>\n",
       "      <td>12</td>\n",
       "      <td>NaN</td>\n",
       "      <td>NaN</td>\n",
       "    </tr>\n",
       "    <tr>\n",
       "      <th>1</th>\n",
       "      <td>Lindiwe Mwale</td>\n",
       "      <td>90</td>\n",
       "      <td>88</td>\n",
       "      <td>94</td>\n",
       "      <td>NaN</td>\n",
       "      <td>NaN</td>\n",
       "    </tr>\n",
       "    <tr>\n",
       "      <th>2</th>\n",
       "      <td>Thoko Nkhoma</td>\n",
       "      <td>75</td>\n",
       "      <td>85</td>\n",
       "      <td>80</td>\n",
       "      <td>NaN</td>\n",
       "      <td>NaN</td>\n",
       "    </tr>\n",
       "    <tr>\n",
       "      <th>3</th>\n",
       "      <td>Tadala Phiri</td>\n",
       "      <td>88</td>\n",
       "      <td>92</td>\n",
       "      <td>87</td>\n",
       "      <td>NaN</td>\n",
       "      <td>NaN</td>\n",
       "    </tr>\n",
       "    <tr>\n",
       "      <th>4</th>\n",
       "      <td>Chikondi Nyirenda</td>\n",
       "      <td>70</td>\n",
       "      <td></td>\n",
       "      <td>82</td>\n",
       "      <td>NaN</td>\n",
       "      <td>NaN</td>\n",
       "    </tr>\n",
       "  </tbody>\n",
       "</table>\n",
       "</div>"
      ],
      "text/plain": [
       "        Student_Name Mathematics_Score Python_Score  Machine_Learning_Score  \\\n",
       "0         Rose Banda                15           18                      12   \n",
       "1      Lindiwe Mwale                90           88                      94   \n",
       "2       Thoko Nkhoma                75           85                      80   \n",
       "3       Tadala Phiri                88           92                      87   \n",
       "4  Chikondi Nyirenda                70                                   82   \n",
       "\n",
       "    1   2  \n",
       "0 NaN NaN  \n",
       "1 NaN NaN  \n",
       "2 NaN NaN  \n",
       "3 NaN NaN  \n",
       "4 NaN NaN  "
      ]
     },
     "execution_count": 53,
     "metadata": {},
     "output_type": "execute_result"
    }
   ],
   "source": [
    "df.head()"
   ]
  },
  {
   "cell_type": "code",
   "execution_count": 55,
   "metadata": {},
   "outputs": [],
   "source": [
    "drop_cols = [1,2]\n",
    "df.drop(columns=drop_cols, inplace=True)"
   ]
  },
  {
   "cell_type": "code",
   "execution_count": 56,
   "metadata": {},
   "outputs": [
    {
     "data": {
      "text/html": [
       "<div>\n",
       "<style scoped>\n",
       "    .dataframe tbody tr th:only-of-type {\n",
       "        vertical-align: middle;\n",
       "    }\n",
       "\n",
       "    .dataframe tbody tr th {\n",
       "        vertical-align: top;\n",
       "    }\n",
       "\n",
       "    .dataframe thead th {\n",
       "        text-align: right;\n",
       "    }\n",
       "</style>\n",
       "<table border=\"1\" class=\"dataframe\">\n",
       "  <thead>\n",
       "    <tr style=\"text-align: right;\">\n",
       "      <th></th>\n",
       "      <th>Student_Name</th>\n",
       "      <th>Mathematics_Score</th>\n",
       "      <th>Python_Score</th>\n",
       "      <th>Machine_Learning_Score</th>\n",
       "    </tr>\n",
       "  </thead>\n",
       "  <tbody>\n",
       "    <tr>\n",
       "      <th>0</th>\n",
       "      <td>Rose Banda</td>\n",
       "      <td>15</td>\n",
       "      <td>18</td>\n",
       "      <td>12</td>\n",
       "    </tr>\n",
       "    <tr>\n",
       "      <th>1</th>\n",
       "      <td>Lindiwe Mwale</td>\n",
       "      <td>90</td>\n",
       "      <td>88</td>\n",
       "      <td>94</td>\n",
       "    </tr>\n",
       "    <tr>\n",
       "      <th>2</th>\n",
       "      <td>Thoko Nkhoma</td>\n",
       "      <td>75</td>\n",
       "      <td>85</td>\n",
       "      <td>80</td>\n",
       "    </tr>\n",
       "    <tr>\n",
       "      <th>3</th>\n",
       "      <td>Tadala Phiri</td>\n",
       "      <td>88</td>\n",
       "      <td>92</td>\n",
       "      <td>87</td>\n",
       "    </tr>\n",
       "    <tr>\n",
       "      <th>4</th>\n",
       "      <td>Chikondi Nyirenda</td>\n",
       "      <td>70</td>\n",
       "      <td></td>\n",
       "      <td>82</td>\n",
       "    </tr>\n",
       "  </tbody>\n",
       "</table>\n",
       "</div>"
      ],
      "text/plain": [
       "        Student_Name Mathematics_Score Python_Score  Machine_Learning_Score\n",
       "0         Rose Banda                15           18                      12\n",
       "1      Lindiwe Mwale                90           88                      94\n",
       "2       Thoko Nkhoma                75           85                      80\n",
       "3       Tadala Phiri                88           92                      87\n",
       "4  Chikondi Nyirenda                70                                   82"
      ]
     },
     "execution_count": 56,
     "metadata": {},
     "output_type": "execute_result"
    }
   ],
   "source": [
    "df.head()"
   ]
  },
  {
   "cell_type": "code",
   "execution_count": 63,
   "metadata": {},
   "outputs": [
    {
     "ename": "ValueError",
     "evalue": "cannot convert float NaN to integer",
     "output_type": "error",
     "traceback": [
      "\u001b[1;31m---------------------------------------------------------------------------\u001b[0m",
      "\u001b[1;31mValueError\u001b[0m                                Traceback (most recent call last)",
      "Cell \u001b[1;32mIn[63], line 1\u001b[0m\n\u001b[1;32m----> 1\u001b[0m df[\u001b[38;5;124m'\u001b[39m\u001b[38;5;124mMathematics_Score\u001b[39m\u001b[38;5;124m'\u001b[39m]\u001b[38;5;241m.\u001b[39mastype(\u001b[38;5;28mint\u001b[39m)\n",
      "File \u001b[1;32mc:\\Users\\dell\\anaconda3\\Lib\\site-packages\\pandas\\core\\generic.py:6643\u001b[0m, in \u001b[0;36mNDFrame.astype\u001b[1;34m(self, dtype, copy, errors)\u001b[0m\n\u001b[0;32m   6637\u001b[0m     results \u001b[38;5;241m=\u001b[39m [\n\u001b[0;32m   6638\u001b[0m         ser\u001b[38;5;241m.\u001b[39mastype(dtype, copy\u001b[38;5;241m=\u001b[39mcopy, errors\u001b[38;5;241m=\u001b[39merrors) \u001b[38;5;28;01mfor\u001b[39;00m _, ser \u001b[38;5;129;01min\u001b[39;00m \u001b[38;5;28mself\u001b[39m\u001b[38;5;241m.\u001b[39mitems()\n\u001b[0;32m   6639\u001b[0m     ]\n\u001b[0;32m   6641\u001b[0m \u001b[38;5;28;01melse\u001b[39;00m:\n\u001b[0;32m   6642\u001b[0m     \u001b[38;5;66;03m# else, only a single dtype is given\u001b[39;00m\n\u001b[1;32m-> 6643\u001b[0m     new_data \u001b[38;5;241m=\u001b[39m \u001b[38;5;28mself\u001b[39m\u001b[38;5;241m.\u001b[39m_mgr\u001b[38;5;241m.\u001b[39mastype(dtype\u001b[38;5;241m=\u001b[39mdtype, copy\u001b[38;5;241m=\u001b[39mcopy, errors\u001b[38;5;241m=\u001b[39merrors)\n\u001b[0;32m   6644\u001b[0m     res \u001b[38;5;241m=\u001b[39m \u001b[38;5;28mself\u001b[39m\u001b[38;5;241m.\u001b[39m_constructor_from_mgr(new_data, axes\u001b[38;5;241m=\u001b[39mnew_data\u001b[38;5;241m.\u001b[39maxes)\n\u001b[0;32m   6645\u001b[0m     \u001b[38;5;28;01mreturn\u001b[39;00m res\u001b[38;5;241m.\u001b[39m__finalize__(\u001b[38;5;28mself\u001b[39m, method\u001b[38;5;241m=\u001b[39m\u001b[38;5;124m\"\u001b[39m\u001b[38;5;124mastype\u001b[39m\u001b[38;5;124m\"\u001b[39m)\n",
      "File \u001b[1;32mc:\\Users\\dell\\anaconda3\\Lib\\site-packages\\pandas\\core\\internals\\managers.py:430\u001b[0m, in \u001b[0;36mBaseBlockManager.astype\u001b[1;34m(self, dtype, copy, errors)\u001b[0m\n\u001b[0;32m    427\u001b[0m \u001b[38;5;28;01melif\u001b[39;00m using_copy_on_write():\n\u001b[0;32m    428\u001b[0m     copy \u001b[38;5;241m=\u001b[39m \u001b[38;5;28;01mFalse\u001b[39;00m\n\u001b[1;32m--> 430\u001b[0m \u001b[38;5;28;01mreturn\u001b[39;00m \u001b[38;5;28mself\u001b[39m\u001b[38;5;241m.\u001b[39mapply(\n\u001b[0;32m    431\u001b[0m     \u001b[38;5;124m\"\u001b[39m\u001b[38;5;124mastype\u001b[39m\u001b[38;5;124m\"\u001b[39m,\n\u001b[0;32m    432\u001b[0m     dtype\u001b[38;5;241m=\u001b[39mdtype,\n\u001b[0;32m    433\u001b[0m     copy\u001b[38;5;241m=\u001b[39mcopy,\n\u001b[0;32m    434\u001b[0m     errors\u001b[38;5;241m=\u001b[39merrors,\n\u001b[0;32m    435\u001b[0m     using_cow\u001b[38;5;241m=\u001b[39musing_copy_on_write(),\n\u001b[0;32m    436\u001b[0m )\n",
      "File \u001b[1;32mc:\\Users\\dell\\anaconda3\\Lib\\site-packages\\pandas\\core\\internals\\managers.py:363\u001b[0m, in \u001b[0;36mBaseBlockManager.apply\u001b[1;34m(self, f, align_keys, **kwargs)\u001b[0m\n\u001b[0;32m    361\u001b[0m         applied \u001b[38;5;241m=\u001b[39m b\u001b[38;5;241m.\u001b[39mapply(f, \u001b[38;5;241m*\u001b[39m\u001b[38;5;241m*\u001b[39mkwargs)\n\u001b[0;32m    362\u001b[0m     \u001b[38;5;28;01melse\u001b[39;00m:\n\u001b[1;32m--> 363\u001b[0m         applied \u001b[38;5;241m=\u001b[39m \u001b[38;5;28mgetattr\u001b[39m(b, f)(\u001b[38;5;241m*\u001b[39m\u001b[38;5;241m*\u001b[39mkwargs)\n\u001b[0;32m    364\u001b[0m     result_blocks \u001b[38;5;241m=\u001b[39m extend_blocks(applied, result_blocks)\n\u001b[0;32m    366\u001b[0m out \u001b[38;5;241m=\u001b[39m \u001b[38;5;28mtype\u001b[39m(\u001b[38;5;28mself\u001b[39m)\u001b[38;5;241m.\u001b[39mfrom_blocks(result_blocks, \u001b[38;5;28mself\u001b[39m\u001b[38;5;241m.\u001b[39maxes)\n",
      "File \u001b[1;32mc:\\Users\\dell\\anaconda3\\Lib\\site-packages\\pandas\\core\\internals\\blocks.py:758\u001b[0m, in \u001b[0;36mBlock.astype\u001b[1;34m(self, dtype, copy, errors, using_cow, squeeze)\u001b[0m\n\u001b[0;32m    755\u001b[0m         \u001b[38;5;28;01mraise\u001b[39;00m \u001b[38;5;167;01mValueError\u001b[39;00m(\u001b[38;5;124m\"\u001b[39m\u001b[38;5;124mCan not squeeze with more than one column.\u001b[39m\u001b[38;5;124m\"\u001b[39m)\n\u001b[0;32m    756\u001b[0m     values \u001b[38;5;241m=\u001b[39m values[\u001b[38;5;241m0\u001b[39m, :]  \u001b[38;5;66;03m# type: ignore[call-overload]\u001b[39;00m\n\u001b[1;32m--> 758\u001b[0m new_values \u001b[38;5;241m=\u001b[39m astype_array_safe(values, dtype, copy\u001b[38;5;241m=\u001b[39mcopy, errors\u001b[38;5;241m=\u001b[39merrors)\n\u001b[0;32m    760\u001b[0m new_values \u001b[38;5;241m=\u001b[39m maybe_coerce_values(new_values)\n\u001b[0;32m    762\u001b[0m refs \u001b[38;5;241m=\u001b[39m \u001b[38;5;28;01mNone\u001b[39;00m\n",
      "File \u001b[1;32mc:\\Users\\dell\\anaconda3\\Lib\\site-packages\\pandas\\core\\dtypes\\astype.py:237\u001b[0m, in \u001b[0;36mastype_array_safe\u001b[1;34m(values, dtype, copy, errors)\u001b[0m\n\u001b[0;32m    234\u001b[0m     dtype \u001b[38;5;241m=\u001b[39m dtype\u001b[38;5;241m.\u001b[39mnumpy_dtype\n\u001b[0;32m    236\u001b[0m \u001b[38;5;28;01mtry\u001b[39;00m:\n\u001b[1;32m--> 237\u001b[0m     new_values \u001b[38;5;241m=\u001b[39m astype_array(values, dtype, copy\u001b[38;5;241m=\u001b[39mcopy)\n\u001b[0;32m    238\u001b[0m \u001b[38;5;28;01mexcept\u001b[39;00m (\u001b[38;5;167;01mValueError\u001b[39;00m, \u001b[38;5;167;01mTypeError\u001b[39;00m):\n\u001b[0;32m    239\u001b[0m     \u001b[38;5;66;03m# e.g. _astype_nansafe can fail on object-dtype of strings\u001b[39;00m\n\u001b[0;32m    240\u001b[0m     \u001b[38;5;66;03m#  trying to convert to float\u001b[39;00m\n\u001b[0;32m    241\u001b[0m     \u001b[38;5;28;01mif\u001b[39;00m errors \u001b[38;5;241m==\u001b[39m \u001b[38;5;124m\"\u001b[39m\u001b[38;5;124mignore\u001b[39m\u001b[38;5;124m\"\u001b[39m:\n",
      "File \u001b[1;32mc:\\Users\\dell\\anaconda3\\Lib\\site-packages\\pandas\\core\\dtypes\\astype.py:182\u001b[0m, in \u001b[0;36mastype_array\u001b[1;34m(values, dtype, copy)\u001b[0m\n\u001b[0;32m    179\u001b[0m     values \u001b[38;5;241m=\u001b[39m values\u001b[38;5;241m.\u001b[39mastype(dtype, copy\u001b[38;5;241m=\u001b[39mcopy)\n\u001b[0;32m    181\u001b[0m \u001b[38;5;28;01melse\u001b[39;00m:\n\u001b[1;32m--> 182\u001b[0m     values \u001b[38;5;241m=\u001b[39m _astype_nansafe(values, dtype, copy\u001b[38;5;241m=\u001b[39mcopy)\n\u001b[0;32m    184\u001b[0m \u001b[38;5;66;03m# in pandas we don't store numpy str dtypes, so convert to object\u001b[39;00m\n\u001b[0;32m    185\u001b[0m \u001b[38;5;28;01mif\u001b[39;00m \u001b[38;5;28misinstance\u001b[39m(dtype, np\u001b[38;5;241m.\u001b[39mdtype) \u001b[38;5;129;01mand\u001b[39;00m \u001b[38;5;28missubclass\u001b[39m(values\u001b[38;5;241m.\u001b[39mdtype\u001b[38;5;241m.\u001b[39mtype, \u001b[38;5;28mstr\u001b[39m):\n",
      "File \u001b[1;32mc:\\Users\\dell\\anaconda3\\Lib\\site-packages\\pandas\\core\\dtypes\\astype.py:133\u001b[0m, in \u001b[0;36m_astype_nansafe\u001b[1;34m(arr, dtype, copy, skipna)\u001b[0m\n\u001b[0;32m    129\u001b[0m     \u001b[38;5;28;01mraise\u001b[39;00m \u001b[38;5;167;01mValueError\u001b[39;00m(msg)\n\u001b[0;32m    131\u001b[0m \u001b[38;5;28;01mif\u001b[39;00m copy \u001b[38;5;129;01mor\u001b[39;00m arr\u001b[38;5;241m.\u001b[39mdtype \u001b[38;5;241m==\u001b[39m \u001b[38;5;28mobject\u001b[39m \u001b[38;5;129;01mor\u001b[39;00m dtype \u001b[38;5;241m==\u001b[39m \u001b[38;5;28mobject\u001b[39m:\n\u001b[0;32m    132\u001b[0m     \u001b[38;5;66;03m# Explicit copy, or required since NumPy can't view from / to object.\u001b[39;00m\n\u001b[1;32m--> 133\u001b[0m     \u001b[38;5;28;01mreturn\u001b[39;00m arr\u001b[38;5;241m.\u001b[39mastype(dtype, copy\u001b[38;5;241m=\u001b[39m\u001b[38;5;28;01mTrue\u001b[39;00m)\n\u001b[0;32m    135\u001b[0m \u001b[38;5;28;01mreturn\u001b[39;00m arr\u001b[38;5;241m.\u001b[39mastype(dtype, copy\u001b[38;5;241m=\u001b[39mcopy)\n",
      "\u001b[1;31mValueError\u001b[0m: cannot convert float NaN to integer"
     ]
    }
   ],
   "source": [
    "df['Mathematics_Score'].astype(int)"
   ]
  },
  {
   "cell_type": "code",
   "execution_count": 62,
   "metadata": {},
   "outputs": [
    {
     "name": "stderr",
     "output_type": "stream",
     "text": [
      "C:\\Users\\dell\\AppData\\Local\\Temp\\ipykernel_10504\\516863617.py:2: FutureWarning: A value is trying to be set on a copy of a DataFrame or Series through chained assignment using an inplace method.\n",
      "The behavior will change in pandas 3.0. This inplace method will never work because the intermediate object on which we are setting values always behaves as a copy.\n",
      "\n",
      "For example, when doing 'df[col].method(value, inplace=True)', try using 'df.method({col: value}, inplace=True)' or df[col] = df[col].method(value) instead, to perform the operation inplace on the original object.\n",
      "\n",
      "\n",
      "  df[cols].replace(\"\", np.nan, inplace=True)\n"
     ]
    }
   ],
   "source": [
    "for cols in df.columns:\n",
    "    df[cols].replace(\"\", np.nan, inplace=True)"
   ]
  },
  {
   "cell_type": "code",
   "execution_count": 64,
   "metadata": {},
   "outputs": [
    {
     "data": {
      "text/plain": [
       "Student_Name              0\n",
       "Mathematics_Score         1\n",
       "Python_Score              1\n",
       "Machine_Learning_Score    0\n",
       "dtype: int64"
      ]
     },
     "execution_count": 64,
     "metadata": {},
     "output_type": "execute_result"
    }
   ],
   "source": [
    "df.isna().sum()"
   ]
  },
  {
   "cell_type": "code",
   "execution_count": 67,
   "metadata": {},
   "outputs": [],
   "source": [
    "df.bfill(inplace=True)"
   ]
  },
  {
   "cell_type": "code",
   "execution_count": 68,
   "metadata": {},
   "outputs": [
    {
     "data": {
      "text/plain": [
       "Student_Name              0\n",
       "Mathematics_Score         0\n",
       "Python_Score              0\n",
       "Machine_Learning_Score    0\n",
       "dtype: int64"
      ]
     },
     "execution_count": 68,
     "metadata": {},
     "output_type": "execute_result"
    }
   ],
   "source": [
    "df.isna().sum()"
   ]
  },
  {
   "cell_type": "code",
   "execution_count": 72,
   "metadata": {},
   "outputs": [
    {
     "name": "stdout",
     "output_type": "stream",
     "text": [
      "invalid literal for int() with base 10: 'Rose Banda'\n"
     ]
    }
   ],
   "source": [
    "for col in df.columns:\n",
    "    try:\n",
    "        df[col] = df[col].astype(int)\n",
    "    except BaseException as e:\n",
    "        print(e)\n",
    "        continue"
   ]
  },
  {
   "cell_type": "code",
   "execution_count": 73,
   "metadata": {},
   "outputs": [
    {
     "name": "stdout",
     "output_type": "stream",
     "text": [
      "<class 'pandas.core.frame.DataFrame'>\n",
      "RangeIndex: 97 entries, 0 to 96\n",
      "Data columns (total 4 columns):\n",
      " #   Column                  Non-Null Count  Dtype \n",
      "---  ------                  --------------  ----- \n",
      " 0   Student_Name            97 non-null     object\n",
      " 1   Mathematics_Score       97 non-null     int32 \n",
      " 2   Python_Score            97 non-null     int32 \n",
      " 3   Machine_Learning_Score  97 non-null     int32 \n",
      "dtypes: int32(3), object(1)\n",
      "memory usage: 2.0+ KB\n"
     ]
    }
   ],
   "source": [
    "df.info()"
   ]
  },
  {
   "cell_type": "code",
   "execution_count": 75,
   "metadata": {},
   "outputs": [
    {
     "data": {
      "text/html": [
       "<div>\n",
       "<style scoped>\n",
       "    .dataframe tbody tr th:only-of-type {\n",
       "        vertical-align: middle;\n",
       "    }\n",
       "\n",
       "    .dataframe tbody tr th {\n",
       "        vertical-align: top;\n",
       "    }\n",
       "\n",
       "    .dataframe thead th {\n",
       "        text-align: right;\n",
       "    }\n",
       "</style>\n",
       "<table border=\"1\" class=\"dataframe\">\n",
       "  <thead>\n",
       "    <tr style=\"text-align: right;\">\n",
       "      <th></th>\n",
       "      <th>Mathematics_Score</th>\n",
       "      <th>Python_Score</th>\n",
       "      <th>Machine_Learning_Score</th>\n",
       "    </tr>\n",
       "  </thead>\n",
       "  <tbody>\n",
       "    <tr>\n",
       "      <th>count</th>\n",
       "      <td>97.00</td>\n",
       "      <td>97.00</td>\n",
       "      <td>97.00</td>\n",
       "    </tr>\n",
       "    <tr>\n",
       "      <th>mean</th>\n",
       "      <td>77.90</td>\n",
       "      <td>76.99</td>\n",
       "      <td>73.57</td>\n",
       "    </tr>\n",
       "    <tr>\n",
       "      <th>std</th>\n",
       "      <td>20.93</td>\n",
       "      <td>22.61</td>\n",
       "      <td>23.24</td>\n",
       "    </tr>\n",
       "    <tr>\n",
       "      <th>min</th>\n",
       "      <td>0.00</td>\n",
       "      <td>0.00</td>\n",
       "      <td>0.00</td>\n",
       "    </tr>\n",
       "    <tr>\n",
       "      <th>25%</th>\n",
       "      <td>75.00</td>\n",
       "      <td>75.00</td>\n",
       "      <td>66.00</td>\n",
       "    </tr>\n",
       "    <tr>\n",
       "      <th>50%</th>\n",
       "      <td>85.00</td>\n",
       "      <td>85.00</td>\n",
       "      <td>80.00</td>\n",
       "    </tr>\n",
       "    <tr>\n",
       "      <th>75%</th>\n",
       "      <td>90.00</td>\n",
       "      <td>90.00</td>\n",
       "      <td>90.00</td>\n",
       "    </tr>\n",
       "    <tr>\n",
       "      <th>max</th>\n",
       "      <td>95.00</td>\n",
       "      <td>98.00</td>\n",
       "      <td>99.00</td>\n",
       "    </tr>\n",
       "  </tbody>\n",
       "</table>\n",
       "</div>"
      ],
      "text/plain": [
       "       Mathematics_Score  Python_Score  Machine_Learning_Score\n",
       "count              97.00         97.00                   97.00\n",
       "mean               77.90         76.99                   73.57\n",
       "std                20.93         22.61                   23.24\n",
       "min                 0.00          0.00                    0.00\n",
       "25%                75.00         75.00                   66.00\n",
       "50%                85.00         85.00                   80.00\n",
       "75%                90.00         90.00                   90.00\n",
       "max                95.00         98.00                   99.00"
      ]
     },
     "execution_count": 75,
     "metadata": {},
     "output_type": "execute_result"
    }
   ],
   "source": [
    "df.describe().__round__(2)"
   ]
  },
  {
   "cell_type": "code",
   "execution_count": 76,
   "metadata": {},
   "outputs": [
    {
     "data": {
      "text/plain": [
       "array(['Rose Banda', 'Lindiwe Mwale', 'Thoko Nkhoma', 'Tadala Phiri',\n",
       "       'Chikondi Nyirenda', 'Loyce Kamanga', 'Blessings Mvula',\n",
       "       'Gift Zimba', 'Patrick Chirwa', 'Mercy Chisale', 'Precious Kunda',\n",
       "       'Catherine Gondwe', 'Felix Moyo', 'Linda Mhone', 'David Phiri',\n",
       "       'Lucy Chipeta', 'Vincent Nkhata', 'Tamara Mtonga', 'Frankie Mbewe',\n",
       "       'Mphatso Mpinganjira', 'Fannie Moyo', 'Joseph Kalua',\n",
       "       'Brenda Msowoya', 'Aubrey Jere', 'Fatima Chibwana',\n",
       "       'Victor Nkhoma', 'Wendy Tembo', 'Ben Chitumba', 'Andrew Chigumula',\n",
       "       'Sophia Mulenga', 'Elijah Kambale', 'Ivy Nyoni', 'Grace Kumwenda',\n",
       "       'Christopher Nyirenda', 'Chisomo Kachale', 'Miriam Chirwa',\n",
       "       'Emmanuel Soko', 'Flora Mwale', \"Alex Ching'oma\", 'Martha Kanjala',\n",
       "       'Brighton Mvula', 'Joyce Nankhuni', 'Brian Mwafulirwa',\n",
       "       'Patience Chirwa', 'Annie Mulenga', 'Brighton Banda',\n",
       "       'Cynthia Moyo', 'Stephen Kaunda', 'Nelson Mwale', 'Maria Chitsulo',\n",
       "       'Wilson Mphepo', 'Grace Lungu', 'Melvin Phiri', 'Levison Manda',\n",
       "       'Idah Gondwe', 'Kelvin Chilimba', 'Chikondi Nyoni',\n",
       "       'Felista Kambalame', 'Robert Chidongo', 'Belinda Kamwendo',\n",
       "       'Peter Malunga', 'Mirriam Namagonya', 'Geoffrey Kasiya',\n",
       "       'Esnart Mhone', 'Frank Banda', 'Abigail Chavula', 'Howard Gondwe',\n",
       "       'Diana Maseko', 'Hilda Kadzamira', 'Richard Kafuwa',\n",
       "       'Esther Chizuma', 'Wellington Chimaliro', 'Patricia Manda',\n",
       "       'Brian Kanyenda', 'Gladys Kumwenda', 'Sydney Tembo',\n",
       "       'Mercy Chawinga', 'David Nkhoma', 'Lillian Mulenga',\n",
       "       'James Chiunda', 'Rhoda Chitowe', 'Simon Chigona',\n",
       "       'Frances Kachali', 'Ishmael Nankhuni', 'Clara Mutharika',\n",
       "       'Rachel Mvula', 'Henry Kalonga', 'Florence Zgambo', 'Mary Nyasulu',\n",
       "       'Lazarus Mwale', 'Peter Phiri', 'Moses Chimaliro',\n",
       "       'Bertha Nyirenda', 'John Zimba'], dtype=object)"
      ]
     },
     "execution_count": 76,
     "metadata": {},
     "output_type": "execute_result"
    }
   ],
   "source": [
    "df['Student_Name'].unique()"
   ]
  },
  {
   "cell_type": "code",
   "execution_count": 77,
   "metadata": {},
   "outputs": [
    {
     "data": {
      "text/html": [
       "<div>\n",
       "<style scoped>\n",
       "    .dataframe tbody tr th:only-of-type {\n",
       "        vertical-align: middle;\n",
       "    }\n",
       "\n",
       "    .dataframe tbody tr th {\n",
       "        vertical-align: top;\n",
       "    }\n",
       "\n",
       "    .dataframe thead th {\n",
       "        text-align: right;\n",
       "    }\n",
       "</style>\n",
       "<table border=\"1\" class=\"dataframe\">\n",
       "  <thead>\n",
       "    <tr style=\"text-align: right;\">\n",
       "      <th></th>\n",
       "      <th>Student_Name</th>\n",
       "      <th>Mathematics_Score</th>\n",
       "      <th>Python_Score</th>\n",
       "      <th>Machine_Learning_Score</th>\n",
       "    </tr>\n",
       "  </thead>\n",
       "  <tbody>\n",
       "    <tr>\n",
       "      <th>0</th>\n",
       "      <td>Rose Banda</td>\n",
       "      <td>15</td>\n",
       "      <td>18</td>\n",
       "      <td>12</td>\n",
       "    </tr>\n",
       "    <tr>\n",
       "      <th>49</th>\n",
       "      <td>Rose Banda</td>\n",
       "      <td>88</td>\n",
       "      <td>3</td>\n",
       "      <td>2</td>\n",
       "    </tr>\n",
       "    <tr>\n",
       "      <th>93</th>\n",
       "      <td>Rose Banda</td>\n",
       "      <td>75</td>\n",
       "      <td>77</td>\n",
       "      <td>76</td>\n",
       "    </tr>\n",
       "  </tbody>\n",
       "</table>\n",
       "</div>"
      ],
      "text/plain": [
       "   Student_Name  Mathematics_Score  Python_Score  Machine_Learning_Score\n",
       "0    Rose Banda                 15            18                      12\n",
       "49   Rose Banda                 88             3                       2\n",
       "93   Rose Banda                 75            77                      76"
      ]
     },
     "execution_count": 77,
     "metadata": {},
     "output_type": "execute_result"
    }
   ],
   "source": [
    "df[df[\"Student_Name\"]=='Rose Banda']"
   ]
  },
  {
   "cell_type": "code",
   "execution_count": 78,
   "metadata": {},
   "outputs": [],
   "source": [
    "numerical_cols = ['Mathematics_Score','Python_Score','Machine_Learning_Score']"
   ]
  },
  {
   "cell_type": "code",
   "execution_count": 84,
   "metadata": {},
   "outputs": [],
   "source": [
    "df[\"total_score_across\"] = df[numerical_cols].sum(axis=1)\n",
    "df[\"tverage_score_across\"] = df[numerical_cols].mean(axis=1).__round__(2)"
   ]
  },
  {
   "cell_type": "code",
   "execution_count": 85,
   "metadata": {},
   "outputs": [
    {
     "data": {
      "text/html": [
       "<div>\n",
       "<style scoped>\n",
       "    .dataframe tbody tr th:only-of-type {\n",
       "        vertical-align: middle;\n",
       "    }\n",
       "\n",
       "    .dataframe tbody tr th {\n",
       "        vertical-align: top;\n",
       "    }\n",
       "\n",
       "    .dataframe thead th {\n",
       "        text-align: right;\n",
       "    }\n",
       "</style>\n",
       "<table border=\"1\" class=\"dataframe\">\n",
       "  <thead>\n",
       "    <tr style=\"text-align: right;\">\n",
       "      <th></th>\n",
       "      <th>Student_Name</th>\n",
       "      <th>Mathematics_Score</th>\n",
       "      <th>Python_Score</th>\n",
       "      <th>Machine_Learning_Score</th>\n",
       "      <th>total_score_across</th>\n",
       "      <th>tverage_score_across</th>\n",
       "    </tr>\n",
       "  </thead>\n",
       "  <tbody>\n",
       "    <tr>\n",
       "      <th>0</th>\n",
       "      <td>Rose Banda</td>\n",
       "      <td>15</td>\n",
       "      <td>18</td>\n",
       "      <td>12</td>\n",
       "      <td>45</td>\n",
       "      <td>15.00</td>\n",
       "    </tr>\n",
       "    <tr>\n",
       "      <th>1</th>\n",
       "      <td>Lindiwe Mwale</td>\n",
       "      <td>90</td>\n",
       "      <td>88</td>\n",
       "      <td>94</td>\n",
       "      <td>272</td>\n",
       "      <td>90.67</td>\n",
       "    </tr>\n",
       "    <tr>\n",
       "      <th>2</th>\n",
       "      <td>Thoko Nkhoma</td>\n",
       "      <td>75</td>\n",
       "      <td>85</td>\n",
       "      <td>80</td>\n",
       "      <td>240</td>\n",
       "      <td>80.00</td>\n",
       "    </tr>\n",
       "    <tr>\n",
       "      <th>3</th>\n",
       "      <td>Tadala Phiri</td>\n",
       "      <td>88</td>\n",
       "      <td>92</td>\n",
       "      <td>87</td>\n",
       "      <td>267</td>\n",
       "      <td>89.00</td>\n",
       "    </tr>\n",
       "    <tr>\n",
       "      <th>4</th>\n",
       "      <td>Chikondi Nyirenda</td>\n",
       "      <td>70</td>\n",
       "      <td>50</td>\n",
       "      <td>82</td>\n",
       "      <td>202</td>\n",
       "      <td>67.33</td>\n",
       "    </tr>\n",
       "  </tbody>\n",
       "</table>\n",
       "</div>"
      ],
      "text/plain": [
       "        Student_Name  Mathematics_Score  Python_Score  Machine_Learning_Score  \\\n",
       "0         Rose Banda                 15            18                      12   \n",
       "1      Lindiwe Mwale                 90            88                      94   \n",
       "2       Thoko Nkhoma                 75            85                      80   \n",
       "3       Tadala Phiri                 88            92                      87   \n",
       "4  Chikondi Nyirenda                 70            50                      82   \n",
       "\n",
       "   total_score_across  tverage_score_across  \n",
       "0                  45                 15.00  \n",
       "1                 272                 90.67  \n",
       "2                 240                 80.00  \n",
       "3                 267                 89.00  \n",
       "4                 202                 67.33  "
      ]
     },
     "execution_count": 85,
     "metadata": {},
     "output_type": "execute_result"
    }
   ],
   "source": [
    "df.head()"
   ]
  },
  {
   "cell_type": "code",
   "execution_count": 86,
   "metadata": {},
   "outputs": [],
   "source": [
    "names = ['vero','emma','sam','carol']"
   ]
  },
  {
   "cell_type": "code",
   "execution_count": 88,
   "metadata": {},
   "outputs": [
    {
     "data": {
      "text/plain": [
       "['Vero']"
      ]
     },
     "execution_count": 88,
     "metadata": {},
     "output_type": "execute_result"
    }
   ],
   "source": [
    "[name.title() for name in names if \"ero\" in name]"
   ]
  },
  {
   "cell_type": "code",
   "execution_count": 89,
   "metadata": {},
   "outputs": [],
   "source": [
    "grades = [45,78,89,34,23,76]"
   ]
  },
  {
   "cell_type": "code",
   "execution_count": 100,
   "metadata": {},
   "outputs": [
    {
     "data": {
      "text/plain": [
       "0     15.00\n",
       "18    26.67\n",
       "23    34.67\n",
       "37    32.33\n",
       "40    24.00\n",
       "47     7.00\n",
       "49    31.00\n",
       "71     0.00\n",
       "82    45.67\n",
       "85    18.00\n",
       "Name: tverage_score_across, dtype: float64"
      ]
     },
     "execution_count": 100,
     "metadata": {},
     "output_type": "execute_result"
    }
   ],
   "source": [
    "df[df['tverage_score_across']<50]['tverage_score_across']"
   ]
  },
  {
   "cell_type": "code",
   "execution_count": 109,
   "metadata": {},
   "outputs": [],
   "source": [
    "labels = ['F', \"P\", \"D\", \"MD\", \"DN\", \"UD\"]\n",
    "bins = [0,49,59,69,79,89,100]"
   ]
  },
  {
   "cell_type": "code",
   "execution_count": 112,
   "metadata": {},
   "outputs": [],
   "source": [
    "df['letter_grade'] = pd.cut(df['tverage_score_across'], bins=bins, labels=labels)"
   ]
  },
  {
   "cell_type": "code",
   "execution_count": 113,
   "metadata": {},
   "outputs": [
    {
     "data": {
      "text/html": [
       "<div>\n",
       "<style scoped>\n",
       "    .dataframe tbody tr th:only-of-type {\n",
       "        vertical-align: middle;\n",
       "    }\n",
       "\n",
       "    .dataframe tbody tr th {\n",
       "        vertical-align: top;\n",
       "    }\n",
       "\n",
       "    .dataframe thead th {\n",
       "        text-align: right;\n",
       "    }\n",
       "</style>\n",
       "<table border=\"1\" class=\"dataframe\">\n",
       "  <thead>\n",
       "    <tr style=\"text-align: right;\">\n",
       "      <th></th>\n",
       "      <th>Student_Name</th>\n",
       "      <th>Mathematics_Score</th>\n",
       "      <th>Python_Score</th>\n",
       "      <th>Machine_Learning_Score</th>\n",
       "      <th>total_score_across</th>\n",
       "      <th>tverage_score_across</th>\n",
       "      <th>letter_grade</th>\n",
       "    </tr>\n",
       "  </thead>\n",
       "  <tbody>\n",
       "    <tr>\n",
       "      <th>0</th>\n",
       "      <td>Rose Banda</td>\n",
       "      <td>15</td>\n",
       "      <td>18</td>\n",
       "      <td>12</td>\n",
       "      <td>45</td>\n",
       "      <td>15.00</td>\n",
       "      <td>F</td>\n",
       "    </tr>\n",
       "    <tr>\n",
       "      <th>1</th>\n",
       "      <td>Lindiwe Mwale</td>\n",
       "      <td>90</td>\n",
       "      <td>88</td>\n",
       "      <td>94</td>\n",
       "      <td>272</td>\n",
       "      <td>90.67</td>\n",
       "      <td>UD</td>\n",
       "    </tr>\n",
       "    <tr>\n",
       "      <th>2</th>\n",
       "      <td>Thoko Nkhoma</td>\n",
       "      <td>75</td>\n",
       "      <td>85</td>\n",
       "      <td>80</td>\n",
       "      <td>240</td>\n",
       "      <td>80.00</td>\n",
       "      <td>DN</td>\n",
       "    </tr>\n",
       "    <tr>\n",
       "      <th>3</th>\n",
       "      <td>Tadala Phiri</td>\n",
       "      <td>88</td>\n",
       "      <td>92</td>\n",
       "      <td>87</td>\n",
       "      <td>267</td>\n",
       "      <td>89.00</td>\n",
       "      <td>DN</td>\n",
       "    </tr>\n",
       "    <tr>\n",
       "      <th>4</th>\n",
       "      <td>Chikondi Nyirenda</td>\n",
       "      <td>70</td>\n",
       "      <td>50</td>\n",
       "      <td>82</td>\n",
       "      <td>202</td>\n",
       "      <td>67.33</td>\n",
       "      <td>D</td>\n",
       "    </tr>\n",
       "  </tbody>\n",
       "</table>\n",
       "</div>"
      ],
      "text/plain": [
       "        Student_Name  Mathematics_Score  Python_Score  Machine_Learning_Score  \\\n",
       "0         Rose Banda                 15            18                      12   \n",
       "1      Lindiwe Mwale                 90            88                      94   \n",
       "2       Thoko Nkhoma                 75            85                      80   \n",
       "3       Tadala Phiri                 88            92                      87   \n",
       "4  Chikondi Nyirenda                 70            50                      82   \n",
       "\n",
       "   total_score_across  tverage_score_across letter_grade  \n",
       "0                  45                 15.00            F  \n",
       "1                 272                 90.67           UD  \n",
       "2                 240                 80.00           DN  \n",
       "3                 267                 89.00           DN  \n",
       "4                 202                 67.33            D  "
      ]
     },
     "execution_count": 113,
     "metadata": {},
     "output_type": "execute_result"
    }
   ],
   "source": [
    "df.head()"
   ]
  },
  {
   "cell_type": "code",
   "execution_count": 114,
   "metadata": {},
   "outputs": [
    {
     "data": {
      "text/plain": [
       "<Axes: xlabel='letter_grade'>"
      ]
     },
     "execution_count": 114,
     "metadata": {},
     "output_type": "execute_result"
    },
    {
     "data": {
      "image/png": "[encoded data removed]",
      "text/plain": [
       "<Figure size 640x480 with 1 Axes>"
      ]
     },
     "metadata": {},
     "output_type": "display_data"
    }
   ],
   "source": [
    "df.letter_grade.value_counts().plot.bar()"
   ]
  },
  {
   "cell_type": "code",
   "execution_count": 115,
   "metadata": {},
   "outputs": [],
   "source": [
    "df.rename(columns=\n",
    "          {\"total_score_across\": \"total_score\", \n",
    "           \"tverage_score_across\": \"average_score\", \n",
    "           \"letter_grade\": \"grade\"}, \n",
    "          inplace=True)"
   ]
  },
  {
   "cell_type": "code",
   "execution_count": 116,
   "metadata": {},
   "outputs": [
    {
     "data": {
      "text/plain": [
       "Index(['Student_Name', 'Mathematics_Score', 'Python_Score',\n",
       "       'Machine_Learning_Score', 'total_score', 'average_score', 'grade'],\n",
       "      dtype='object')"
      ]
     },
     "execution_count": 116,
     "metadata": {},
     "output_type": "execute_result"
    }
   ],
   "source": [
    "df.columns"
   ]
  },
  {
   "cell_type": "code",
   "execution_count": 119,
   "metadata": {},
   "outputs": [],
   "source": [
    "df.drop(columns=['Mathematics_Score', 'Python_Score',\n",
    "       'Machine_Learning_Score']).to_csv(\"vero.txt\", sep=\",\", index=False)"
   ]
  },
  {
   "cell_type": "code",
   "execution_count": null,
   "metadata": {},
   "outputs": [],
   "source": []
  }
 ],
 "metadata": {
  "kernelspec": {
   "display_name": "base",
   "language": "python",
   "name": "python3"
  },
  "language_info": {
   "codemirror_mode": {
    "name": "ipython",
    "version": 3
   },
   "file_extension": ".py",
   "mimetype": "text/x-python",
   "name": "python",
   "nbconvert_exporter": "python",
   "pygments_lexer": "ipython3",
   "version": "3.12.4"
  }
 },
 "nbformat": 4,
 "nbformat_minor": 2
}
